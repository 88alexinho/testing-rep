{
 "cells": [
  {
   "cell_type": "code",
   "execution_count": 1,
   "id": "73ac3dda-7d4c-4912-82e9-b98cc2d20994",
   "metadata": {
    "tags": []
   },
   "outputs": [],
   "source": [
    "a = 5"
   ]
  },
  {
   "cell_type": "code",
   "execution_count": 2,
   "id": "852b5cea-90e5-42fc-9ef2-8644d374285c",
   "metadata": {
    "tags": []
   },
   "outputs": [],
   "source": [
    "b = 8"
   ]
  },
  {
   "cell_type": "code",
   "execution_count": 3,
   "id": "f96a11e3-642f-47df-9ff3-12976980f2e6",
   "metadata": {
    "tags": []
   },
   "outputs": [],
   "source": [
    "c = a*b+a"
   ]
  },
  {
   "cell_type": "code",
   "execution_count": 4,
   "id": "0428cdad-b1c1-4b98-b652-abce493dccc1",
   "metadata": {
    "tags": []
   },
   "outputs": [
    {
     "data": {
      "text/plain": [
       "45"
      ]
     },
     "execution_count": 4,
     "metadata": {},
     "output_type": "execute_result"
    }
   ],
   "source": [
    "c"
   ]
  },
  {
   "cell_type": "code",
   "execution_count": null,
   "id": "3a501c39-a516-47cc-8e4d-03b2a2bd6ad2",
   "metadata": {},
   "outputs": [],
   "source": []
  }
 ],
 "metadata": {
  "kernelspec": {
   "display_name": "Python 3 (ipykernel)",
   "language": "python",
   "name": "python3"
  },
  "language_info": {
   "codemirror_mode": {
    "name": "ipython",
    "version": 3
   },
   "file_extension": ".py",
   "mimetype": "text/x-python",
   "name": "python",
   "nbconvert_exporter": "python",
   "pygments_lexer": "ipython3",
   "version": "3.11.5"
  }
 },
 "nbformat": 4,
 "nbformat_minor": 5
}
