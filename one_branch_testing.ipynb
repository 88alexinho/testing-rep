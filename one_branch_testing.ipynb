{
 "cells": [
  {
   "cell_type": "code",
   "execution_count": 1,
   "id": "e13e462f",
   "metadata": {},
   "outputs": [],
   "source": [
    "import os\n",
    "import sys"
   ]
  },
  {
   "cell_type": "code",
   "execution_count": 2,
   "id": "af58416c",
   "metadata": {},
   "outputs": [],
   "source": [
    "g = 524"
   ]
  },
  {
   "cell_type": "code",
   "execution_count": 3,
   "id": "468d1c84",
   "metadata": {},
   "outputs": [],
   "source": [
    "y = 987"
   ]
  },
  {
   "cell_type": "code",
   "execution_count": 6,
   "id": "8314796a",
   "metadata": {},
   "outputs": [
    {
     "data": {
      "text/plain": [
       "974693"
      ]
     },
     "execution_count": 6,
     "metadata": {},
     "output_type": "execute_result"
    }
   ],
   "source": [
    "lk = g+y*y\n",
    "lk"
   ]
  },
  {
   "cell_type": "code",
   "execution_count": null,
   "id": "92c58f08",
   "metadata": {},
   "outputs": [],
   "source": []
  }
 ],
 "metadata": {
  "kernelspec": {
   "display_name": "Python 3 (ipykernel)",
   "language": "python",
   "name": "python3"
  },
  "language_info": {
   "codemirror_mode": {
    "name": "ipython",
    "version": 3
   },
   "file_extension": ".py",
   "mimetype": "text/x-python",
   "name": "python",
   "nbconvert_exporter": "python",
   "pygments_lexer": "ipython3",
   "version": "3.11.5"
  }
 },
 "nbformat": 4,
 "nbformat_minor": 5
}
